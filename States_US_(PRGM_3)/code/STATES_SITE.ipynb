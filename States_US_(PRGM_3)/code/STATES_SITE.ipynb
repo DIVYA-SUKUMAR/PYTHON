{
 "cells": [
  {
   "cell_type": "code",
   "execution_count": 3,
   "id": "99408d00",
   "metadata": {},
   "outputs": [],
   "source": [
    "import time\n",
    "import selenium\n",
    "from selenium import webdriver\n",
    "from selenium.webdriver.support.ui import Select\n",
    "import pandas as pd\n",
    "import os"
   ]
  },
  {
   "cell_type": "code",
   "execution_count": 4,
   "id": "eb75026a",
   "metadata": {},
   "outputs": [
    {
     "data": {
      "text/plain": [
       "'C:\\\\Users\\\\Merit'"
      ]
     },
     "execution_count": 4,
     "metadata": {},
     "output_type": "execute_result"
    }
   ],
   "source": [
    "os.getcwd()"
   ]
  },
  {
   "cell_type": "code",
   "execution_count": 5,
   "id": "d21e17ac",
   "metadata": {},
   "outputs": [],
   "source": [
    "os.chdir(r\"C:\\Users\\merit\\Desktop\\PYTHON\\states\")"
   ]
  },
  {
   "cell_type": "code",
   "execution_count": 6,
   "id": "7efeb7ee",
   "metadata": {},
   "outputs": [],
   "source": [
    "driverpath=r\"C:\\Users\\Merit\\Downloads\\chromedriver_win32\\chromedriver.exe\"\n",
    "driver=webdriver.Chrome(executable_path=driverpath)\n",
    "driver.get(\"https://ai.fmcsa.dot.gov/hhg/Search.asp?ads=a\")\n",
    "driver.maximize_window()\n",
    "writer = pd.ExcelWriter(\"details.xlsx\", engine='xlsxwriter')\n",
    "for i in range(1,97):\n",
    "    x1=[]\n",
    "    x2=[]\n",
    "    x3=[]\n",
    "    x4=[]\n",
    "    driver.find_element_by_xpath(\"//label[contains(text(),'State')]//following::select[1]\").click()\n",
    "    driver.find_element_by_xpath(\"//option[contains(text(),'Please select state')]//following::option[\"+str(i)+\"]\").click()\n",
    "    name = driver.find_element_by_xpath(\"//option[contains(text(),'Please select state')]//following::option[\"+str(i)+\"]\").text;    \n",
    "    driver.find_element_by_xpath(\"//tbody/tr[1]/td[2]/input[3]\").click()\n",
    "    a=driver.find_elements_by_xpath(\"//body[1]/table[1]/tbody[1]/tr[3]/td[1]/table[1]/tbody[1]/tr[2]/td[3]/table[1]/tbody[1]/tr[8]/td[1]/table[1]/tbody[1]/tr[2]/td[1]//following::a\")\n",
    "    for j in range(1,len(a)-12):\n",
    "        lst1=driver.find_elements_by_xpath(\"//body[1]/table[1]/tbody[1]/tr[3]/td[1]/table[1]/tbody[1]/tr[2]/td[3]/table[1]/tbody[1]/tr[8]/td[1]/table[1]/tbody[1]/tr[{}]/td[1]\".format(j))\n",
    "        lst2=driver.find_elements_by_xpath(\"//body[1]/table[1]/tbody[1]/tr[3]/td[1]/table[1]/tbody[1]/tr[2]/td[3]/table[1]/tbody[1]/tr[8]/td[1]/table[1]/tbody[1]/tr[{}]/td[2]\".format(j))\n",
    "        lst3=driver.find_elements_by_xpath(\"//body[1]/table[1]/tbody[1]/tr[3]/td[1]/table[1]/tbody[1]/tr[2]/td[3]/table[1]/tbody[1]/tr[8]/td[1]/table[1]/tbody[1]/tr[{}]/td[3]\".format(j))\n",
    "        lst4=driver.find_elements_by_xpath(\"//tbody/tr[{}]/td[4]\".format(j))\n",
    "        for k in lst1:\n",
    "            x1.append(n.text)\n",
    "        for l in lst2:\n",
    "            x2.append(m.text)\n",
    "        for m in lst3:\n",
    "            x3.append(x.text)\n",
    "        for n in lst4:\n",
    "            x4.append(v.text)\n",
    "        df=pd.DataFrame(list(zip(x1,x2,x3,x4)), columns =[\"Company Name\",\"Headquarters Location\",\"Company Type\",\"Fleet Size\"])\n",
    "        df.to_excel(writer,sheet_name=name,index = False)\n",
    "    driver.back()\n",
    "writer.save()\n",
    "writer.close()\n",
    "       \n"
   ]
  },
  {
   "cell_type": "code",
   "execution_count": null,
   "id": "362136e6",
   "metadata": {},
   "outputs": [],
   "source": []
  }
 ],
 "metadata": {
  "kernelspec": {
   "display_name": "Python 3",
   "language": "python",
   "name": "python3"
  },
  "language_info": {
   "codemirror_mode": {
    "name": "ipython",
    "version": 3
   },
   "file_extension": ".py",
   "mimetype": "text/x-python",
   "name": "python",
   "nbconvert_exporter": "python",
   "pygments_lexer": "ipython3",
   "version": "3.8.8"
  }
 },
 "nbformat": 4,
 "nbformat_minor": 5
}
