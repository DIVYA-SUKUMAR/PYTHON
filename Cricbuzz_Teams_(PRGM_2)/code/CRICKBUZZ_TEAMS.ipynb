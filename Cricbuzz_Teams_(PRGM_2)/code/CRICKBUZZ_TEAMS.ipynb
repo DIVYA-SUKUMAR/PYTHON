{
 "cells": [
  {
   "cell_type": "code",
   "execution_count": 7,
   "id": "ad5db10f",
   "metadata": {},
   "outputs": [],
   "source": [
    "from selenium import webdriver\n",
    "from selenium.webdriver.support.ui import Select\n",
    "import os\n",
    "import time\n",
    "import pandas as pd"
   ]
  },
  {
   "cell_type": "code",
   "execution_count": 3,
   "id": "3efcb519",
   "metadata": {},
   "outputs": [],
   "source": [
    "os.chdir(r\"C:\\Users\\Merit\\Desktop\\PYTHON\\\\images2\")"
   ]
  },
  {
   "cell_type": "code",
   "execution_count": 4,
   "id": "54319ff8",
   "metadata": {},
   "outputs": [
    {
     "data": {
      "text/plain": [
       "'C:\\\\Users\\\\Merit\\\\Desktop\\\\PYTHON\\\\images2\\\\images2'"
      ]
     },
     "execution_count": 4,
     "metadata": {},
     "output_type": "execute_result"
    }
   ],
   "source": [
    "os.getcwd()+ \"\\\\\" +\"images2\""
   ]
  },
  {
   "cell_type": "code",
   "execution_count": 7,
   "id": "f7a49f74",
   "metadata": {},
   "outputs": [],
   "source": [
    "os.chdir(r\"C:\\Users\\Merit\\Desktop\\PYTHON\\\\images2\")"
   ]
  },
  {
   "cell_type": "code",
   "execution_count": 8,
   "id": "2af44b0c",
   "metadata": {},
   "outputs": [
    {
     "name": "stdout",
     "output_type": "stream",
     "text": [
      "Country Name: ['India', 'Ireland', 'Pakistan', 'Australia', 'Sri Lanka', 'Bangladesh', 'England', 'West Indies', 'South Africa', 'Zimbabwe', 'New Zealand', 'Afghanistan', 'Italy', 'Botswana', 'Iran', 'Belgium', 'Denmark', 'Namibia', 'Singapore', 'Bermuda', 'Canada', 'Uganda', 'Malaysia', 'Nepal', 'Netherlands', 'Scotland', 'United Arab Emirates', 'Hong Kong', 'Kenya', 'United States', 'Germany', 'Fiji', 'Kuwait', 'Vanuatu', 'Jersey', 'Oman', 'Papua New Guinea']\n"
     ]
    }
   ],
   "source": [
    "driverPath=r\"C:\\Users\\Merit\\Downloads\\chromedriver_win32\\chromedriver.exe\"\n",
    "driver = webdriver.Chrome(driverPath)\n",
    "driver.get(\"https://www.cricbuzz.com/cricket-team\")\n",
    "driver.maximize_window()\n",
    "teams=driver.find_elements_by_xpath(\"//body/div[1]/div[2]/div[5]/div[1]\")\n",
    "lst=[]\n",
    "for i in teams:\n",
    "    lst.append(i.text)\n",
    "    lst2=lst[0].split('\\n')\n",
    "    print(\"Country Name:\",lst2)\n",
    "img=driver.find_elements_by_xpath(\"//div[contains(@class,'cb-col cb-col-25')]\")\n",
    "for i,j in zip(img,lst2):    \n",
    "    with open(j+\".png\",\"wb\") as file:\n",
    "        file.write(i.screenshot_as_png)\n",
    "driver.close()"
   ]
  },
  {
   "cell_type": "code",
   "execution_count": 11,
   "id": "689a5ddf",
   "metadata": {},
   "outputs": [],
   "source": []
  }
 ],
 "metadata": {
  "kernelspec": {
   "display_name": "Python 3",
   "language": "python",
   "name": "python3"
  },
  "language_info": {
   "codemirror_mode": {
    "name": "ipython",
    "version": 3
   },
   "file_extension": ".py",
   "mimetype": "text/x-python",
   "name": "python",
   "nbconvert_exporter": "python",
   "pygments_lexer": "ipython3",
   "version": "3.8.8"
  }
 },
 "nbformat": 4,
 "nbformat_minor": 5
}
